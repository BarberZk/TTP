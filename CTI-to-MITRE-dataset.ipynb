{
 "cells": [
  {
   "cell_type": "code",
   "id": "initial_id",
   "metadata": {
    "collapsed": true,
    "ExecuteTime": {
     "end_time": "2025-09-08T14:06:40.546259Z",
     "start_time": "2025-09-08T14:06:39.819508Z"
    }
   },
   "source": [
    "from datasets import load_dataset\n",
    "from tqdm import tqdm\n",
    "import pandas as pd\n",
    "import os\n",
    "from pathlib import Path\n",
    "import json"
   ],
   "outputs": [],
   "execution_count": 1
  },
  {
   "metadata": {
    "ExecuteTime": {
     "end_time": "2025-09-08T14:06:40.552664Z",
     "start_time": "2025-09-08T14:06:40.549267Z"
    }
   },
   "cell_type": "code",
   "source": [
    "\n",
    "NUM_SAMPLES = 4000\n",
    "OUTPUT_JSON_FILE = f\"./data/input/sft_dataset_{NUM_SAMPLES}.json\""
   ],
   "id": "399f50e7fffff0f2",
   "outputs": [],
   "execution_count": 2
  },
  {
   "metadata": {
    "ExecuteTime": {
     "end_time": "2025-09-08T14:06:44.798729Z",
     "start_time": "2025-09-08T14:06:40.646943Z"
    }
   },
   "cell_type": "code",
   "source": "dataset = load_dataset(\"HoangCuongNguyen/CTI-to-MITRE-dataset\")",
   "id": "a5183a8452e808a3",
   "outputs": [],
   "execution_count": 3
  },
  {
   "metadata": {
    "ExecuteTime": {
     "end_time": "2025-09-08T14:06:44.806295Z",
     "start_time": "2025-09-08T14:06:44.803602Z"
    }
   },
   "cell_type": "code",
   "source": [
    "print(f\"dataset structure: {dataset}\")\n",
    "print(f\"1st sample of train set: {dataset['train'][0]}\")"
   ],
   "id": "52ff9a90e74ffacf",
   "outputs": [
    {
     "name": "stdout",
     "output_type": "stream",
     "text": [
      "dataset structure: DatasetDict({\n",
      "    train: Dataset({\n",
      "        features: ['text'],\n",
      "        num_rows: 14427\n",
      "    })\n",
      "})\n",
      "1st sample of train set: {'text': '### Human:Find the techniques and ID from MITRE ATT&CK framework.,TrickBot has used macros in Excel documents to download and deploy the malware on the user’s machine.### Assistant: T1059: Command and Scripting Interpreter'}\n"
     ]
    }
   ],
   "execution_count": 4
  },
  {
   "metadata": {
    "ExecuteTime": {
     "end_time": "2025-09-08T14:06:44.819669Z",
     "start_time": "2025-09-08T14:06:44.816003Z"
    }
   },
   "cell_type": "code",
   "source": [
    "train_dataset = dataset['train']\n",
    "print(f\"\\n已选择 'train' 数据集，共 {len(train_dataset)} 条记录。\")"
   ],
   "id": "2854f4f40806b30e",
   "outputs": [
    {
     "name": "stdout",
     "output_type": "stream",
     "text": [
      "\n",
      "已选择 'train' 数据集，共 14427 条记录。\n"
     ]
    }
   ],
   "execution_count": 5
  },
  {
   "metadata": {
    "ExecuteTime": {
     "end_time": "2025-09-08T14:06:44.830855Z",
     "start_time": "2025-09-08T14:06:44.826740Z"
    }
   },
   "cell_type": "code",
   "source": [
    "def process_example(example):\n",
    "    \"\"\"处理单个数据样本，将其从原始文本转换为结构化字典\"\"\"\n",
    "    full_text = example.get('text', '').strip()\n",
    "    instruction, input_text, output = \"\", \"\", \"\"\n",
    "    try:\n",
    "        parts = full_text.split('### Assistant:')\n",
    "        if len(parts) == 2:\n",
    "            human_part, assistant_part = parts\n",
    "            output = assistant_part.strip()\n",
    "            human_content = human_part.replace('### Human:', '').strip()\n",
    "            instruction_input_parts = human_content.split(',', 1)\n",
    "            if len(instruction_input_parts) == 2:\n",
    "                instruction = instruction_input_parts[0].strip()\n",
    "                input_text = instruction_input_parts[1].strip()\n",
    "    except Exception as e:\n",
    "        print(f\"处理数据时发生错误: {e}\\n原始数据: {full_text}\")\n",
    "    return {\n",
    "        \"instruction\": instruction,\n",
    "        \"input\": input_text,\n",
    "        \"output\": output\n",
    "    }"
   ],
   "id": "c90d3f48cd0ff05d",
   "outputs": [],
   "execution_count": 6
  },
  {
   "metadata": {
    "ExecuteTime": {
     "end_time": "2025-09-08T14:06:44.956629Z",
     "start_time": "2025-09-08T14:06:44.835962Z"
    }
   },
   "cell_type": "code",
   "source": [
    "train_dataset=train_dataset.select(range(NUM_SAMPLES))\n",
    "\n",
    "processed_dataset = train_dataset.map(\n",
    "            process_example,\n",
    "            remove_columns=train_dataset.column_names\n",
    ")\n",
    "\n",
    "print(\"\\n处理后的数据集结构:\")\n",
    "print(processed_dataset)\n",
    "\n",
    "all_records = [record for record in processed_dataset]\n",
    "\n",
    "if len(processed_dataset) > 0:\n",
    "   print(\"\\n处理结果示例 (第一条):\")\n",
    "   print(json.dumps(processed_dataset[0], indent=4, ensure_ascii=False))\n",
    "\n",
    "\n",
    "try:\n",
    "    print(f\"准备将文件保存到: {OUTPUT_JSON_FILE}\")\n",
    "\n",
    "    # 使用 Python 自带的 json 库进行写入\n",
    "    with open(OUTPUT_JSON_FILE, 'w', encoding='utf-8') as f:\n",
    "            # json.dump 会将整个列表一次性写入，确保是单一顶层数组\n",
    "        json.dump(all_records, f, indent=4, ensure_ascii=False)\n",
    "\n",
    "    print(f\"\\n处理完成！数据集已通过手动方式正确保存到 {OUTPUT_JSON_FILE}\")\n",
    "\n",
    "        # 验证文件内容\n",
    "    print(\"\\n正在验证已保存的文件...\")\n",
    "    with open(OUTPUT_JSON_FILE, 'r', encoding='utf-8') as f:\n",
    "        first_char = f.read(1)\n",
    "        f.seek(0, 2)  # 移动到文件末尾\n",
    "        file_size = f.tell()\n",
    "        f.seek(file_size - 1)\n",
    "        last_char = f.read(1)\n",
    "        if first_char == '[' and last_char == ']':\n",
    "            print(\"✅ 文件验证成功：文件以 '[' 开头，以 ']' 结尾。格式正确！\")\n",
    "        else:\n",
    "            print(\"❌ 文件验证失败：文件格式仍然不正确。\")\n",
    "\n",
    "except Exception as e:\n",
    "    print(f\"写入文件时发生错误: {e}\")"
   ],
   "id": "a57c90f16dfdeb37",
   "outputs": [
    {
     "name": "stdout",
     "output_type": "stream",
     "text": [
      "\n",
      "处理后的数据集结构:\n",
      "Dataset({\n",
      "    features: ['instruction', 'input', 'output'],\n",
      "    num_rows: 4000\n",
      "})\n",
      "\n",
      "处理结果示例 (第一条):\n",
      "{\n",
      "    \"instruction\": \"Find the techniques and ID from MITRE ATT&CK framework.\",\n",
      "    \"input\": \"TrickBot has used macros in Excel documents to download and deploy the malware on the user’s machine.\",\n",
      "    \"output\": \"T1059: Command and Scripting Interpreter\"\n",
      "}\n",
      "准备将文件保存到: ./data/input/sft_dataset_4000.json\n",
      "\n",
      "处理完成！数据集已通过手动方式正确保存到 ./data/input/sft_dataset_4000.json\n",
      "\n",
      "正在验证已保存的文件...\n",
      "✅ 文件验证成功：文件以 '[' 开头，以 ']' 结尾。格式正确！\n"
     ]
    }
   ],
   "execution_count": 7
  },
  {
   "metadata": {
    "ExecuteTime": {
     "end_time": "2025-09-08T14:06:44.971382Z",
     "start_time": "2025-09-08T14:06:44.967986Z"
    }
   },
   "cell_type": "code",
   "source": [
    "\n",
    "\n",
    "\n",
    "\n",
    "print(\"\\n处理完成！数据集已成功保存。\")"
   ],
   "id": "7d6a9e34cf6c122e",
   "outputs": [
    {
     "name": "stdout",
     "output_type": "stream",
     "text": [
      "\n",
      "处理完成！数据集已成功保存。\n"
     ]
    }
   ],
   "execution_count": 8
  }
 ],
 "metadata": {
  "kernelspec": {
   "display_name": "Python 3",
   "language": "python",
   "name": "python3"
  },
  "language_info": {
   "codemirror_mode": {
    "name": "ipython",
    "version": 2
   },
   "file_extension": ".py",
   "mimetype": "text/x-python",
   "name": "python",
   "nbconvert_exporter": "python",
   "pygments_lexer": "ipython2",
   "version": "2.7.6"
  }
 },
 "nbformat": 4,
 "nbformat_minor": 5
}
