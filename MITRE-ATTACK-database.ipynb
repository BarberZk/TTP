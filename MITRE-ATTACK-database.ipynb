{
 "cells": [
  {
   "cell_type": "code",
   "id": "initial_id",
   "metadata": {
    "collapsed": true,
    "ExecuteTime": {
     "end_time": "2025-10-26T19:03:00.294174Z",
     "start_time": "2025-10-26T19:02:59.598362Z"
    }
   },
   "source": [
    "from datasets import load_dataset\n",
    "from tqdm import tqdm\n",
    "import pandas as pd\n",
    "import os\n",
    "from pathlib import Path\n",
    "import json"
   ],
   "outputs": [],
   "execution_count": 1
  },
  {
   "metadata": {
    "ExecuteTime": {
     "end_time": "2025-10-26T19:03:00.300007Z",
     "start_time": "2025-10-26T19:03:00.297684Z"
    }
   },
   "cell_type": "code",
   "source": "OUTPUT_JSON_FILE = f\"./data/input/MITRE-ATTACK_dataset_test.json\"",
   "id": "a440582f26fa3fb3",
   "outputs": [],
   "execution_count": 2
  },
  {
   "metadata": {
    "ExecuteTime": {
     "end_time": "2025-10-26T19:03:07.115188Z",
     "start_time": "2025-10-26T19:03:00.408869Z"
    }
   },
   "cell_type": "code",
   "source": [
    "dataset = load_dataset(\"Zainabsa99/mitre_attack\")\n",
    "print(f\"dataset structure: {dataset}\")\n",
    "print(f\"1st sample of train set: {dataset['train'][0]}\")"
   ],
   "id": "b534734380233251",
   "outputs": [
    {
     "data": {
      "text/plain": [
       "README.md:   0%|          | 0.00/521 [00:00<?, ?B/s]"
      ],
      "application/vnd.jupyter.widget-view+json": {
       "version_major": 2,
       "version_minor": 0,
       "model_id": "11fe4f6cc5ca4ed8aa982c05ffd06b4e"
      }
     },
     "metadata": {},
     "output_type": "display_data"
    },
    {
     "name": "stderr",
     "output_type": "stream",
     "text": [
      "Xet Storage is enabled for this repo, but the 'hf_xet' package is not installed. Falling back to regular HTTP download. For better performance, install the package with: `pip install huggingface_hub[hf_xet]` or `pip install hf_xet`\n"
     ]
    },
    {
     "data": {
      "text/plain": [
       "train-00000-of-00001.parquet:   0%|          | 0.00/503k [00:00<?, ?B/s]"
      ],
      "application/vnd.jupyter.widget-view+json": {
       "version_major": 2,
       "version_minor": 0,
       "model_id": "cf54655f35c241f0b601ae4b40afb725"
      }
     },
     "metadata": {},
     "output_type": "display_data"
    },
    {
     "data": {
      "text/plain": [
       "Generating train split:   0%|          | 0/508 [00:00<?, ? examples/s]"
      ],
      "application/vnd.jupyter.widget-view+json": {
       "version_major": 2,
       "version_minor": 0,
       "model_id": "92f6df28737b447fa4c6d283237cba7e"
      }
     },
     "metadata": {},
     "output_type": "display_data"
    },
    {
     "name": "stdout",
     "output_type": "stream",
     "text": [
      "dataset structure: DatasetDict({\n",
      "    train: Dataset({\n",
      "        features: ['ID', 'name', 'description', 'created', 'domain', 'tactics', 'detection', 'text'],\n",
      "        num_rows: 508\n",
      "    })\n",
      "})\n",
      "1st sample of train set: {'ID': 'T1578.005', 'name': 'Modify Cloud Compute Infrastructure: Modify Cloud Compute Configurations', 'description': 'Adversaries may modify settings that directly affect the size, locations, and resources available to cloud compute infrastructure in order to evade defenses. These settings may include service quotas, subscription associations, tenant-wide policies, or other configurations that impact available compute. Such modifications may allow adversaries to abuse the victim’s compute resources to achieve their goals, potentially without affecting the execution of running instances and/or revealing their activities to the victim.\\n\\nFor example, cloud providers often limit customer usage of compute resources via quotas. Customers may request adjustments to these quotas to support increased computing needs, though these adjustments may require approval from the cloud provider. Adversaries who compromise a cloud environment may similarly request quota adjustments in order to support their activities, such as enabling additional [Resource Hijacking](https://attack.mitre.org/techniques/T1496) without raising suspicion by using up a victim’s entire quota.(Citation: Microsoft Cryptojacking 2023) Adversaries may also increase allowed resource usage by modifying any tenant-wide policies that limit the sizes of deployed virtual machines.(Citation: Microsoft Azure Policy)\\n\\nAdversaries may also modify settings that affect where cloud resources can be deployed, such as enabling [Unused/Unsupported Cloud Regions](https://attack.mitre.org/techniques/T1535). In Azure environments, an adversary who has gained access to a Global Administrator account may create new subscriptions in which to deploy resources, or engage in subscription hijacking by transferring an existing pay-as-you-go subscription from a victim tenant to an adversary-controlled tenant.(Citation: Microsoft Peach Sandstorm 2023) This will allow the adversary to use the victim’s compute resources without generating logs on the victim tenant.(Citation: Microsoft Azure Policy) (Citation: Microsoft Subscription Hijacking 2022)', 'created': '05 September 2023', 'domain': 'enterprise-attack', 'tactics': 'Defense Evasion', 'detection': None, 'text': ''}\n"
     ]
    }
   ],
   "execution_count": 3
  },
  {
   "metadata": {
    "ExecuteTime": {
     "end_time": "2025-10-26T19:08:35.746015Z",
     "start_time": "2025-10-26T19:08:35.726368Z"
    }
   },
   "cell_type": "code",
   "source": "",
   "id": "82b73fcb97f7ba4e",
   "outputs": [
    {
     "data": {
      "text/plain": [
       "Creating json from Arrow format:   0%|          | 0/1 [00:00<?, ?ba/s]"
      ],
      "application/vnd.jupyter.widget-view+json": {
       "version_major": 2,
       "version_minor": 0,
       "model_id": "b85cc6406aa0476488e13b472da39f8d"
      }
     },
     "metadata": {},
     "output_type": "display_data"
    },
    {
     "name": "stdout",
     "output_type": "stream",
     "text": [
      "成功将 508 条记录保存到 ./data/input/MITRE-ATTACK_dataset_test.json\n"
     ]
    }
   ],
   "execution_count": 4
  },
  {
   "metadata": {
    "ExecuteTime": {
     "end_time": "2025-10-26T19:15:04.164128Z",
     "start_time": "2025-10-26T19:15:04.153090Z"
    }
   },
   "cell_type": "code",
   "source": [
    "import pandas as pd\n",
    "\n",
    "\n",
    "\n",
    "train_df = dataset['train'].to_pandas()\n",
    "\n",
    "\n",
    "columns_to_keep = ['ID', 'name', 'description']\n",
    "filtered_df = train_df[columns_to_keep]\n",
    "\n",
    "\n",
    "\n",
    "filtered_df.to_json(\n",
    "    OUTPUT_JSON_FILE,\n",
    "    orient=\"records\",\n",
    "    indent=4\n",
    ")\n",
    "\n",
    "print(f\"成功将 {len(filtered_df)} 条记录保存到 {OUTPUT_JSON_FILE}\")\n",
    "print(\"文件格式为标准的JSON列表（单一顶层值）。\")"
   ],
   "id": "33480591f6bc5f68",
   "outputs": [
    {
     "name": "stdout",
     "output_type": "stream",
     "text": [
      "成功将 508 条记录保存到 ./data/input/MITRE-ATTACK_dataset_test.json\n",
      "文件格式为标准的JSON列表（单一顶层值）。\n"
     ]
    }
   ],
   "execution_count": 5
  },
  {
   "metadata": {},
   "cell_type": "code",
   "outputs": [],
   "execution_count": null,
   "source": "",
   "id": "870dd65c9ce068ad"
  }
 ],
 "metadata": {
  "kernelspec": {
   "display_name": "Python 3",
   "language": "python",
   "name": "python3"
  },
  "language_info": {
   "codemirror_mode": {
    "name": "ipython",
    "version": 2
   },
   "file_extension": ".py",
   "mimetype": "text/x-python",
   "name": "python",
   "nbconvert_exporter": "python",
   "pygments_lexer": "ipython2",
   "version": "2.7.6"
  }
 },
 "nbformat": 4,
 "nbformat_minor": 5
}
